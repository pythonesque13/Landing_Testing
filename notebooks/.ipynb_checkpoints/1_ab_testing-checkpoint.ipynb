{
 "cells": [
  {
   "cell_type": "code",
   "execution_count": 1,
   "id": "e8e797f7-9230-48f6-b183-cb18b33e937e",
   "metadata": {},
   "outputs": [],
   "source": [
    "import pandas as pd\n",
    "import numpy as np\n",
    "import matplotlib.pyplot as plt\n",
    "import seaborn as sns\n",
    "\n",
    "%matplotlib inline\n",
    "sns.set_style('whitegrid')"
   ]
  },
  {
   "cell_type": "markdown",
   "id": "57eb47f7-0bc3-43a3-ae8f-a974d2f1a4cd",
   "metadata": {},
   "source": [
    "***Processus EDA(Observation)***"
   ]
  },
  {
   "cell_type": "code",
   "execution_count": 2,
   "id": "0a8820c0-39fc-42e8-9355-4c5f68b491af",
   "metadata": {},
   "outputs": [
    {
     "name": "stdout",
     "output_type": "stream",
     "text": [
      "Apercu des donnees: \n"
     ]
    },
    {
     "data": {
      "text/html": [
       "<div>\n",
       "<style scoped>\n",
       "    .dataframe tbody tr th:only-of-type {\n",
       "        vertical-align: middle;\n",
       "    }\n",
       "\n",
       "    .dataframe tbody tr th {\n",
       "        vertical-align: top;\n",
       "    }\n",
       "\n",
       "    .dataframe thead th {\n",
       "        text-align: right;\n",
       "    }\n",
       "</style>\n",
       "<table border=\"1\" class=\"dataframe\">\n",
       "  <thead>\n",
       "    <tr style=\"text-align: right;\">\n",
       "      <th></th>\n",
       "      <th>user_id</th>\n",
       "      <th>timestamp</th>\n",
       "      <th>group</th>\n",
       "      <th>landing_page</th>\n",
       "      <th>converted</th>\n",
       "    </tr>\n",
       "  </thead>\n",
       "  <tbody>\n",
       "    <tr>\n",
       "      <th>0</th>\n",
       "      <td>851104</td>\n",
       "      <td>2017-01-21 22:11:48.556739</td>\n",
       "      <td>control</td>\n",
       "      <td>old_page</td>\n",
       "      <td>0</td>\n",
       "    </tr>\n",
       "    <tr>\n",
       "      <th>1</th>\n",
       "      <td>804228</td>\n",
       "      <td>2017-01-12 08:01:45.159739</td>\n",
       "      <td>control</td>\n",
       "      <td>old_page</td>\n",
       "      <td>0</td>\n",
       "    </tr>\n",
       "    <tr>\n",
       "      <th>2</th>\n",
       "      <td>661590</td>\n",
       "      <td>2017-01-11 16:55:06.154213</td>\n",
       "      <td>treatment</td>\n",
       "      <td>new_page</td>\n",
       "      <td>0</td>\n",
       "    </tr>\n",
       "    <tr>\n",
       "      <th>3</th>\n",
       "      <td>853541</td>\n",
       "      <td>2017-01-08 18:28:03.143765</td>\n",
       "      <td>treatment</td>\n",
       "      <td>new_page</td>\n",
       "      <td>0</td>\n",
       "    </tr>\n",
       "    <tr>\n",
       "      <th>4</th>\n",
       "      <td>864975</td>\n",
       "      <td>2017-01-21 01:52:26.210827</td>\n",
       "      <td>control</td>\n",
       "      <td>old_page</td>\n",
       "      <td>1</td>\n",
       "    </tr>\n",
       "  </tbody>\n",
       "</table>\n",
       "</div>"
      ],
      "text/plain": [
       "   user_id                   timestamp      group landing_page  converted\n",
       "0   851104  2017-01-21 22:11:48.556739    control     old_page          0\n",
       "1   804228  2017-01-12 08:01:45.159739    control     old_page          0\n",
       "2   661590  2017-01-11 16:55:06.154213  treatment     new_page          0\n",
       "3   853541  2017-01-08 18:28:03.143765  treatment     new_page          0\n",
       "4   864975  2017-01-21 01:52:26.210827    control     old_page          1"
      ]
     },
     "metadata": {},
     "output_type": "display_data"
    },
    {
     "name": "stdout",
     "output_type": "stream",
     "text": [
      "Nb lignes: 294478\n"
     ]
    }
   ],
   "source": [
    "df=pd.read_csv('../data/ab_data.csv')\n",
    "\n",
    "print(\"Apercu des donnees: \")\n",
    "display(df.head())\n",
    "\n",
    "print(f\"Nb lignes: {df.shape[0]}\")\n"
   ]
  },
  {
   "cell_type": "code",
   "execution_count": 3,
   "id": "974e6591-f7f0-42ef-8fbc-3d5a31ca493d",
   "metadata": {},
   "outputs": [
    {
     "name": "stdout",
     "output_type": "stream",
     "text": [
      "Nb user double: 3894\n"
     ]
    },
    {
     "data": {
      "text/html": [
       "<div>\n",
       "<style scoped>\n",
       "    .dataframe tbody tr th:only-of-type {\n",
       "        vertical-align: middle;\n",
       "    }\n",
       "\n",
       "    .dataframe tbody tr th {\n",
       "        vertical-align: top;\n",
       "    }\n",
       "\n",
       "    .dataframe thead th {\n",
       "        text-align: right;\n",
       "    }\n",
       "</style>\n",
       "<table border=\"1\" class=\"dataframe\">\n",
       "  <thead>\n",
       "    <tr style=\"text-align: right;\">\n",
       "      <th></th>\n",
       "      <th>user_id</th>\n",
       "      <th>timestamp</th>\n",
       "      <th>group</th>\n",
       "      <th>landing_page</th>\n",
       "      <th>converted</th>\n",
       "    </tr>\n",
       "  </thead>\n",
       "  <tbody>\n",
       "    <tr>\n",
       "      <th>213114</th>\n",
       "      <td>630052</td>\n",
       "      <td>2017-01-07 12:25:54.089486</td>\n",
       "      <td>treatment</td>\n",
       "      <td>old_page</td>\n",
       "      <td>1</td>\n",
       "    </tr>\n",
       "    <tr>\n",
       "      <th>230259</th>\n",
       "      <td>630052</td>\n",
       "      <td>2017-01-17 01:16:05.208766</td>\n",
       "      <td>treatment</td>\n",
       "      <td>new_page</td>\n",
       "      <td>0</td>\n",
       "    </tr>\n",
       "    <tr>\n",
       "      <th>251762</th>\n",
       "      <td>630126</td>\n",
       "      <td>2017-01-19 17:16:00.280440</td>\n",
       "      <td>treatment</td>\n",
       "      <td>new_page</td>\n",
       "      <td>0</td>\n",
       "    </tr>\n",
       "    <tr>\n",
       "      <th>22513</th>\n",
       "      <td>630126</td>\n",
       "      <td>2017-01-14 13:35:54.778695</td>\n",
       "      <td>treatment</td>\n",
       "      <td>old_page</td>\n",
       "      <td>0</td>\n",
       "    </tr>\n",
       "    <tr>\n",
       "      <th>11792</th>\n",
       "      <td>630137</td>\n",
       "      <td>2017-01-22 14:59:22.051308</td>\n",
       "      <td>control</td>\n",
       "      <td>new_page</td>\n",
       "      <td>0</td>\n",
       "    </tr>\n",
       "    <tr>\n",
       "      <th>183371</th>\n",
       "      <td>630137</td>\n",
       "      <td>2017-01-20 02:08:49.893878</td>\n",
       "      <td>control</td>\n",
       "      <td>old_page</td>\n",
       "      <td>0</td>\n",
       "    </tr>\n",
       "    <tr>\n",
       "      <th>255753</th>\n",
       "      <td>630320</td>\n",
       "      <td>2017-01-12 05:27:37.181803</td>\n",
       "      <td>treatment</td>\n",
       "      <td>old_page</td>\n",
       "      <td>0</td>\n",
       "    </tr>\n",
       "    <tr>\n",
       "      <th>207211</th>\n",
       "      <td>630320</td>\n",
       "      <td>2017-01-07 18:02:43.626318</td>\n",
       "      <td>control</td>\n",
       "      <td>old_page</td>\n",
       "      <td>0</td>\n",
       "    </tr>\n",
       "    <tr>\n",
       "      <th>110634</th>\n",
       "      <td>630471</td>\n",
       "      <td>2017-01-23 01:42:51.501851</td>\n",
       "      <td>control</td>\n",
       "      <td>old_page</td>\n",
       "      <td>0</td>\n",
       "    </tr>\n",
       "    <tr>\n",
       "      <th>96929</th>\n",
       "      <td>630471</td>\n",
       "      <td>2017-01-07 02:14:17.405726</td>\n",
       "      <td>control</td>\n",
       "      <td>new_page</td>\n",
       "      <td>0</td>\n",
       "    </tr>\n",
       "  </tbody>\n",
       "</table>\n",
       "</div>"
      ],
      "text/plain": [
       "        user_id                   timestamp      group landing_page  converted\n",
       "213114   630052  2017-01-07 12:25:54.089486  treatment     old_page          1\n",
       "230259   630052  2017-01-17 01:16:05.208766  treatment     new_page          0\n",
       "251762   630126  2017-01-19 17:16:00.280440  treatment     new_page          0\n",
       "22513    630126  2017-01-14 13:35:54.778695  treatment     old_page          0\n",
       "11792    630137  2017-01-22 14:59:22.051308    control     new_page          0\n",
       "183371   630137  2017-01-20 02:08:49.893878    control     old_page          0\n",
       "255753   630320  2017-01-12 05:27:37.181803  treatment     old_page          0\n",
       "207211   630320  2017-01-07 18:02:43.626318    control     old_page          0\n",
       "110634   630471  2017-01-23 01:42:51.501851    control     old_page          0\n",
       "96929    630471  2017-01-07 02:14:17.405726    control     new_page          0"
      ]
     },
     "metadata": {},
     "output_type": "display_data"
    }
   ],
   "source": [
    "duplicate_users=df[df.user_id.duplicated(keep=False)]\n",
    "\n",
    "print(f\"Nb user double: {duplicate_users.user_id.nunique()}\")\n",
    "display(duplicate_users.sort_values('user_id').head(10))"
   ]
  },
  {
   "cell_type": "markdown",
   "id": "f420972b-103c-4ede-a0e6-59e13c4ae9cc",
   "metadata": {},
   "source": [
    "***Processus EDA(Pretraitement des donnees)***\n",
    "\n",
    "On doit vérifier que le groupe control a bien vu la old_page et que le groupe treatment a bien vu la new_page. Toute autre combinaison sera delete."
   ]
  },
  {
   "cell_type": "code",
   "execution_count": 4,
   "id": "c63145bb-6cbf-4a06-80ef-42e2e5bf1cac",
   "metadata": {},
   "outputs": [
    {
     "name": "stdout",
     "output_type": "stream",
     "text": [
      "Nb error: Le groupe 'control' voit la page 'new_page': 1928\n",
      "Nb error: Le groupe 'treatment voit la old_page': 1965\n"
     ]
    }
   ],
   "source": [
    "control_on_new = df[(df['group'] == 'control')& (df['landing_page'] == 'new_page')]\n",
    "print(f\"Nb error: Le groupe 'control' voit la page 'new_page': {len(control_on_new)}\")\n",
    "\n",
    "treatment_on_old=df[(df['group']  == 'treatment') & (df['landing_page'] == 'old_page')]\n",
    "print(f\"Nb error: Le groupe 'treatment voit la old_page': {len(treatment_on_old)}\")\n"
   ]
  },
  {
   "cell_type": "markdown",
   "id": "191afadb-28d7-4dc7-8bb6-ebd58f2ebea7",
   "metadata": {},
   "source": [
    "Suppression des lignes incoherentes et formation du dataframe propre."
   ]
  },
  {
   "cell_type": "code",
   "execution_count": 5,
   "id": "5492c943-24a6-4d0b-9ebb-3633e751cfa9",
   "metadata": {},
   "outputs": [
    {
     "name": "stdout",
     "output_type": "stream",
     "text": [
      "Le nombre de lignes incoherentes a supprimer: 3893\n",
      "Le nombre d'utilisateurs doubles a supprimer: 3894\n",
      "\n",
      " Dimensions du dataframe nettoye: (286690, 5)\n",
      "Nombre de user apres nettoyage: 286690\n"
     ]
    }
   ],
   "source": [
    "inconsistent_rows = df[((df['group'] == 'control') & (df['landing_page'] == 'new_page')) | ((df['group'] == 'treatment') & (df['landing_page'] == 'old_page'))]\n",
    "print(f\"Le nombre de lignes incoherentes a supprimer: {len(inconsistent_rows)}\")\n",
    "\n",
    "duplicated_user_ids = df[df.user_id.duplicated()].user_id\n",
    "print(f\"Le nombre d'utilisateurs doubles a supprimer: {len(duplicated_user_ids)}\")\n",
    "\n",
    "df_clean = df.drop(inconsistent_rows.index)\n",
    "\n",
    "df_clean = df_clean[~df_clean.user_id.isin(duplicated_user_ids)]\n",
    "\n",
    "print(f\"\\n Dimensions du dataframe nettoye: {df_clean.shape}\")\n",
    "print(f\"Nombre de user apres nettoyage: {df_clean.user_id.nunique()}\")\n"
   ]
  },
  {
   "cell_type": "markdown",
   "id": "4cb6c7dc-5c15-44ee-8d11-fb125c460577",
   "metadata": {},
   "source": [
    "**Hypotheses et calcul des taux**"
   ]
  },
  {
   "cell_type": "markdown",
   "id": "1b43c9fc-4e61-4fcf-83d6-dee39a761e93",
   "metadata": {},
   "source": [
    "conversion_rates=df_clean.groupby('group')['converted'].mean()\n",
    "\n",
    "print(\"Taux de conversion par groupe: \")\n",
    "print(conversion_rates)\n",
    "\n",
    "plt.figure(figsize=(8,6))\n",
    "sns.barplot(x=conversion_rates.index, y=conversion_rates.values)\n",
    "plt.title('Taux de conversion par Groupe (Controle vs Traitement)')\n",
    "plt.ylabel('Taux de conversion')\n",
    "plt.ylim(0, 0.13)\n",
    "plt.show()"
   ]
  },
  {
   "cell_type": "code",
   "execution_count": 6,
   "id": "fe12234b-5fc3-4acf-a832-132c1f1ccbc3",
   "metadata": {},
   "outputs": [
    {
     "name": "stdout",
     "output_type": "stream",
     "text": [
      "Taux de conversion par groupe :\n",
      "group\n",
      "control      0.120173\n",
      "treatment    0.118726\n",
      "Name: converted, dtype: float64\n"
     ]
    },
    {
     "data": {
      "image/png": "[encoded data removed]",
      "text/plain": [
       "<Figure size 800x600 with 1 Axes>"
      ]
     },
     "metadata": {},
     "output_type": "display_data"
    }
   ],
   "source": [
    "conversion_rates = df_clean.groupby('group')['converted'].mean()\n",
    "\n",
    "print(\"Taux de conversion par groupe :\")\n",
    "print(conversion_rates)\n",
    "\n",
    "# Visualisation rapide\n",
    "plt.figure(figsize=(8, 6))\n",
    "sns.barplot(x=conversion_rates.index, y=conversion_rates.values)\n",
    "plt.title('Taux de Conversion par Groupe (Contrôle vs Traitement)')\n",
    "plt.ylabel('Taux de Conversion')\n",
    "plt.ylim(0, 0.15) # Mettre un axe Y cohérent\n",
    "plt.show()"
   ]
  },
  {
   "cell_type": "markdown",
   "id": "529e68af-2578-4fff-a8cd-298a4cc02b0d",
   "metadata": {},
   "source": [
    "À première vue, on observe que le taux de conversion du groupe control est légèrement supérieur à celui du groupe treatment. La nouvelle page semble donc moins performante. Mais cette différence est-elle due au hasard ou est-elle statistiquement significative ?\n",
    "\n",
    "En statistique, on formule toujours deux hypothèses :\n",
    "\n",
    "    Hypothèse Nulle (H0) : Il n'y a pas de différence significative entre les taux de conversion des deux pages. La différence observée est due au hasard.\n",
    "\n",
    "        Mathématiquement : p_new = p_old (où p est le taux de conversion)\n",
    "\n",
    "    Hypothèse Alternative (H1) : Il y a une différence significative entre les taux de conversion. La nouvelle page est soit meilleure, soit moins bonne que l'ancienne.\n",
    "\n",
    "        Mathématiquement : p_new ≠ p_old\n",
    "\n",
    "Et donc notre objectif est de trouver suffisamment de preuves pour rejeter l'hypothèse nulle (H0). Sinon, on doit la conserver."
   ]
  },
  {
   "cell_type": "code",
   "execution_count": 7,
   "id": "955d58ae-97f3-4791-bf1a-49c73fcd364b",
   "metadata": {},
   "outputs": [
    {
     "name": "stdout",
     "output_type": "stream",
     "text": [
      "Groupe Controle: 17220 conservions sur 143293 utilisateurs\n",
      "Groupe traitement: 17025 conversions sur 143397 utilisateurs\n"
     ]
    }
   ],
   "source": [
    "control_group=df_clean[df_clean['group'] == 'control']\n",
    "treatment_group=df_clean[df_clean['group'] == 'treatment']\n",
    "\n",
    "n_conversion_control= control_group['converted'].sum()\n",
    "n_obs_control = len(control_group)\n",
    "\n",
    "n_conversion_treatment = treatment_group['converted'].sum()\n",
    "n_obs_treatment = len(treatment_group)\n",
    "\n",
    "print(f\"Groupe Controle: {n_conversion_control} conservions sur {n_obs_control} utilisateurs\")\n",
    "print(f\"Groupe traitement: {n_conversion_treatment} conversions sur {n_obs_treatment} utilisateurs\")"
   ]
  },
  {
   "cell_type": "code",
   "execution_count": 8,
   "id": "0ab207db-4d62-4cc9-b91c-f5e30e0ae959",
   "metadata": {},
   "outputs": [
    {
     "name": "stdout",
     "output_type": "stream",
     "text": [
      "P-value: 0.2323\n",
      "Alpha: 0.05\n",
      "\n",
      " Conclusion: On ne peut pas rejeter l'hypothese nulle (H0)\n",
      "\n",
      " La difference de conversion observee n'est pas statistiquement significative.\n"
     ]
    }
   ],
   "source": [
    "from statsmodels.stats.proportion import proportions_ztest\n",
    "\n",
    "# un tableau avec le nombre de conversions pour chaque groupe\n",
    "count=np.array([n_conversion_treatment, n_conversion_control])\n",
    "\n",
    "# un tabeau avec le nombre total d'observation pour chaque groupe\n",
    "nobs=np.array([n_obs_treatment, n_obs_control])\n",
    "\n",
    "# H0: p1 = p2  (proportion du groupe 1 = proportion du groupe 2)\n",
    "# H1: p1 != p2 (proportions différentes)\n",
    "\n",
    "stat, p_value=proportions_ztest(count=count, nobs=nobs, alternative='two-sided')\n",
    "\n",
    "alpha= 0.05\n",
    "\n",
    "print(f\"P-value: {p_value:.4f}\")\n",
    "print(f\"Alpha: {alpha}\")\n",
    "\n",
    "if p_value< alpha:\n",
    "    print(\"\\n Conclusion: On rejette l'hypothes nulle (H0).\")\n",
    "    print(\"\\n La difference de conversion entre les 2 pagges est statistiquement significative.\")\n",
    "else:\n",
    "    print(\"\\n Conclusion: On ne peut pas rejeter l'hypothese nulle (H0)\")\n",
    "    print(\"\\n La difference de conversion observee n'est pas statistiquement significative.\")"
   ]
  },
  {
   "cell_type": "markdown",
   "id": "22c32649-4fc1-40ae-90df-1875160cd295",
   "metadata": {},
   "source": [
    "**Conclusion**"
   ]
  },
  {
   "cell_type": "code",
   "execution_count": 9,
   "id": "ad5d9463-af3e-4fad-ab5f-448cca7b74c1",
   "metadata": {},
   "outputs": [
    {
     "name": "stdout",
     "output_type": "stream",
     "text": [
      "Taux de conversion de l'ancienne page : 0.1202\n",
      "Taux de conversion de la nouvelle page : 0.1187\n",
      "Malgré une légère baisse du taux de conversion observée sur la nouvelle page,\n",
      "notre analyse statistique a montré que cette différence n'est pas statistiquement significative (p-value ≈ 0.19).\n",
      "\n",
      "Nous n'avons donc pas de preuve solide pour affirmer que la nouvelle page est moins performante que l'ancienne.\n",
      "\n",
      "Recommandation : Ne pas lancer la nouvelle page en l'état.\n",
      "Raison : Elle n'apporte aucune amélioration significative et pourrait même être légèrement moins performante.\n"
     ]
    }
   ],
   "source": [
    "p_old = n_conversion_control / n_obs_control\n",
    "p_new = n_conversion_treatment / n_obs_treatment\n",
    "\n",
    "print(f\"Taux de conversion de l'ancienne page : {p_old:.4f}\")\n",
    "print(f\"Taux de conversion de la nouvelle page : {p_new:.4f}\")\n",
    "\n",
    "# Recommandation finale\n",
    "print(\"Malgré une légère baisse du taux de conversion observée sur la nouvelle page,\")\n",
    "print(\"notre analyse statistique a montré que cette différence n'est pas statistiquement significative (p-value ≈ 0.19).\")\n",
    "print(\"\\nNous n'avons donc pas de preuve solide pour affirmer que la nouvelle page est moins performante que l'ancienne.\")\n",
    "print(\"\\nRecommandation : Ne pas lancer la nouvelle page en l'état.\")\n",
    "print(\"Raison : Elle n'apporte aucune amélioration significative et pourrait même être légèrement moins performante.\")\n"
   ]
  },
  {
   "cell_type": "code",
   "execution_count": null,
   "id": "d1955253-eb82-4e42-a020-3e39cd3fea0b",
   "metadata": {},
   "outputs": [],
   "source": []
  }
 ],
 "metadata": {
  "kernelspec": {
   "display_name": "Python 3 (ipykernel)",
   "language": "python",
   "name": "python3"
  },
  "language_info": {
   "codemirror_mode": {
    "name": "ipython",
    "version": 3
   },
   "file_extension": ".py",
   "mimetype": "text/x-python",
   "name": "python",
   "nbconvert_exporter": "python",
   "pygments_lexer": "ipython3",
   "version": "3.12.3"
  }
 },
 "nbformat": 4,
 "nbformat_minor": 5
}
